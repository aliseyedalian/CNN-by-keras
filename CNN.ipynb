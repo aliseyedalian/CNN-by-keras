{
  "nbformat": 4,
  "nbformat_minor": 0,
  "metadata": {
    "colab": {
      "name": "CNN.ipynb",
      "provenance": [],
      "collapsed_sections": [],
      "toc_visible": true,
      "authorship_tag": "ABX9TyPMXwPYS6pP0ctp1tVqL81i",
      "include_colab_link": true
    },
    "kernelspec": {
      "name": "python3",
      "display_name": "Python 3"
    },
    "language_info": {
      "name": "python"
    }
  },
  "cells": [
    {
      "cell_type": "markdown",
      "metadata": {
        "id": "view-in-github",
        "colab_type": "text"
      },
      "source": [
        "<a href=\"https://colab.research.google.com/github/sedaliSedalian/CNN-by-keras/blob/master/CNN.ipynb\" target=\"_parent\"><img src=\"https://colab.research.google.com/assets/colab-badge.svg\" alt=\"Open In Colab\"/></a>"
      ]
    },
    {
      "cell_type": "markdown",
      "metadata": {
        "id": "_VwBHf12VL6f"
      },
      "source": [
        "# Load Data"
      ]
    },
    {
      "cell_type": "code",
      "metadata": {
        "colab": {
          "base_uri": "https://localhost:8080/",
          "height": 282
        },
        "id": "cWCFR9LoVN41",
        "outputId": "603e72c6-75df-4074-bcb8-74eaba4ada4a"
      },
      "source": [
        "from keras.datasets import mnist\n",
        "import matplotlib.pyplot as plt\n",
        "(train_images,train_labels),(test_images,test_labels)=mnist.load_data()\n",
        "plt.imshow (train_images[1],cmap='binary')"
      ],
      "execution_count": 2,
      "outputs": [
        {
          "output_type": "execute_result",
          "data": {
            "text/plain": [
              "<matplotlib.image.AxesImage at 0x7f2bfd973590>"
            ]
          },
          "metadata": {},
          "execution_count": 2
        },
        {
          "output_type": "display_data",
          "data": {
            "image/png": "[encoded data removed]",
            "text/plain": [
              "<Figure size 432x288 with 1 Axes>"
            ]
          },
          "metadata": {
            "needs_background": "light"
          }
        }
      ]
    },
    {
      "cell_type": "markdown",
      "metadata": {
        "id": "wyo98jShVjDS"
      },
      "source": [
        "# preprocess"
      ]
    },
    {
      "cell_type": "code",
      "metadata": {
        "colab": {
          "base_uri": "https://localhost:8080/"
        },
        "id": "mawvtHmOVkOY",
        "outputId": "c19a2d2d-9664-4d4d-b3cf-e61914da4393"
      },
      "source": [
        "print ( ' train image dimension :' , train_images.ndim)\n",
        "print ( ' train image  shape :' , train_images.shape)\n",
        "print ( ' train image  type:' , train_images.dtype)"
      ],
      "execution_count": 3,
      "outputs": [
        {
          "output_type": "stream",
          "name": "stdout",
          "text": [
            " train image dimension : 3\n",
            " train image  shape : (60000, 28, 28)\n",
            " train image  type: uint8\n"
          ]
        }
      ]
    },
    {
      "cell_type": "code",
      "metadata": {
        "id": "Z0wMhP5tVuiN"
      },
      "source": [
        "X_train=train_images.reshape(60000,28,28,1)\n",
        "X_test=test_images.reshape(10000,28,28,1)"
      ],
      "execution_count": 4,
      "outputs": []
    },
    {
      "cell_type": "code",
      "metadata": {
        "id": "1VE0d3ibVyng"
      },
      "source": [
        "X_train=X_train.astype('float32')\n",
        "X_test=X_test.astype('float32')"
      ],
      "execution_count": 5,
      "outputs": []
    },
    {
      "cell_type": "code",
      "metadata": {
        "id": "VJ3H6W1WV4LX"
      },
      "source": [
        "X_train /=255\n",
        "X_test /=255"
      ],
      "execution_count": 6,
      "outputs": []
    },
    {
      "cell_type": "code",
      "metadata": {
        "id": "Sw-cLnqcV_el"
      },
      "source": [
        "from keras.utils import np_utils\n",
        "Y_train=np_utils.to_categorical(train_labels)\n",
        "Y_test=np_utils.to_categorical(test_labels)"
      ],
      "execution_count": 7,
      "outputs": []
    },
    {
      "cell_type": "markdown",
      "metadata": {
        "id": "vfOxAeIUWLQW"
      },
      "source": [
        "# Create Model"
      ]
    },
    {
      "cell_type": "code",
      "metadata": {
        "id": "jjtXawZGWMpG"
      },
      "source": [
        "from keras.models import Model\n",
        "from keras import layers"
      ],
      "execution_count": 8,
      "outputs": []
    },
    {
      "cell_type": "code",
      "metadata": {
        "id": "8ZrV-nFLWV-j"
      },
      "source": [
        "my_input=layers.Input (shape=(28,28,1))\n",
        "conv1=layers.Conv2D (16,3,activation='relu', padding='same',strides=1)(my_input)\n",
        "pool1=layers.MaxPool2D(pool_size=2)(conv1)\n",
        "conv2=layers.Conv2D (32,3,activation='relu', padding='same',strides=1)(pool1)\n",
        "pool2=layers.MaxPool2D(pool_size=2)(conv2)\n",
        "flat=layers.Flatten()(pool2)\n",
        "out=layers.Dense(10,activation = 'softmax')(flat)"
      ],
      "execution_count": 9,
      "outputs": []
    },
    {
      "cell_type": "code",
      "metadata": {
        "colab": {
          "base_uri": "https://localhost:8080/"
        },
        "id": "hwDNqFcHWc77",
        "outputId": "6cc7fbcc-71c9-4f1c-a260-d21b64567333"
      },
      "source": [
        "myModel=Model(my_input,out)\n",
        "\n",
        "myModel.summary()"
      ],
      "execution_count": 10,
      "outputs": [
        {
          "output_type": "stream",
          "name": "stdout",
          "text": [
            "Model: \"model\"\n",
            "_________________________________________________________________\n",
            "Layer (type)                 Output Shape              Param #   \n",
            "=================================================================\n",
            "input_1 (InputLayer)         [(None, 28, 28, 1)]       0         \n",
            "_________________________________________________________________\n",
            "conv2d (Conv2D)              (None, 28, 28, 16)        160       \n",
            "_________________________________________________________________\n",
            "max_pooling2d (MaxPooling2D) (None, 14, 14, 16)        0         \n",
            "_________________________________________________________________\n",
            "conv2d_1 (Conv2D)            (None, 14, 14, 32)        4640      \n",
            "_________________________________________________________________\n",
            "max_pooling2d_1 (MaxPooling2 (None, 7, 7, 32)          0         \n",
            "_________________________________________________________________\n",
            "flatten (Flatten)            (None, 1568)              0         \n",
            "_________________________________________________________________\n",
            "dense (Dense)                (None, 10)                15690     \n",
            "=================================================================\n",
            "Total params: 20,490\n",
            "Trainable params: 20,490\n",
            "Non-trainable params: 0\n",
            "_________________________________________________________________\n"
          ]
        }
      ]
    },
    {
      "cell_type": "code",
      "metadata": {
        "id": "ZF6W-OywWiiz"
      },
      "source": [
        "myModel.compile(optimizer='Adam', loss='categorical_crossentropy', metrics=['accuracy'])"
      ],
      "execution_count": 11,
      "outputs": []
    },
    {
      "cell_type": "markdown",
      "metadata": {
        "id": "aSxjhWwPWldD"
      },
      "source": [
        "# Train Model (Fitting)"
      ]
    },
    {
      "cell_type": "code",
      "metadata": {
        "colab": {
          "base_uri": "https://localhost:8080/"
        },
        "id": "O6wZ8pelWmc0",
        "outputId": "311b7c40-d20b-4cea-df10-4342824d163c"
      },
      "source": [
        "import datetime\n",
        "start=datetime.datetime.now()\n",
        "trained_model=myModel.fit(X_train,Y_train , batch_size=128 , epochs=5 , validation_split=0.2)\n",
        "end=datetime.datetime.now()\n",
        "Total_time_training=end-start\n",
        "print ('Total_time_training:',Total_time_training )"
      ],
      "execution_count": 12,
      "outputs": [
        {
          "output_type": "stream",
          "name": "stdout",
          "text": [
            "Epoch 1/5\n",
            "375/375 [==============================] - 26s 68ms/step - loss: 0.3868 - accuracy: 0.8936 - val_loss: 0.1188 - val_accuracy: 0.9645\n",
            "Epoch 2/5\n",
            "375/375 [==============================] - 25s 67ms/step - loss: 0.0979 - accuracy: 0.9706 - val_loss: 0.0834 - val_accuracy: 0.9775\n",
            "Epoch 3/5\n",
            "375/375 [==============================] - 25s 67ms/step - loss: 0.0691 - accuracy: 0.9793 - val_loss: 0.0661 - val_accuracy: 0.9810\n",
            "Epoch 4/5\n",
            "375/375 [==============================] - 25s 67ms/step - loss: 0.0562 - accuracy: 0.9832 - val_loss: 0.0645 - val_accuracy: 0.9808\n",
            "Epoch 5/5\n",
            "375/375 [==============================] - 25s 67ms/step - loss: 0.0476 - accuracy: 0.9860 - val_loss: 0.0531 - val_accuracy: 0.9833\n",
            "Total_time_training: 0:02:06.719228\n"
          ]
        }
      ]
    },
    {
      "cell_type": "code",
      "metadata": {
        "id": "zcwQY3z3XOMT"
      },
      "source": [
        "history=trained_model.history\n",
        "\n",
        "losses=history['loss']\n",
        "val_losses=history['val_loss']\n",
        "ac=history['accuracy']\n",
        "val_ac=history['val_accuracy']"
      ],
      "execution_count": 18,
      "outputs": []
    },
    {
      "cell_type": "code",
      "metadata": {
        "colab": {
          "base_uri": "https://localhost:8080/",
          "height": 561
        },
        "id": "wAgerkbpXPcz",
        "outputId": "26645e1f-39b0-49eb-ad81-22d4642c62e9"
      },
      "source": [
        "import matplotlib.pyplot as plt\n",
        "plt.xlabel('Epochs')\n",
        "plt.ylabel('Loss')\n",
        "plt.plot(losses)\n",
        "plt.plot(val_losses)\n",
        "plt.legend(['loss','val_loss'])\n",
        "plt.figure()\n",
        "plt.xlabel('Epochs')\n",
        "plt.ylabel('accuracy')\n",
        "plt.plot(ac)\n",
        "plt.plot(val_ac)\n",
        "plt.legend(['acc','val_acc'])"
      ],
      "execution_count": 19,
      "outputs": [
        {
          "output_type": "execute_result",
          "data": {
            "text/plain": [
              "<matplotlib.legend.Legend at 0x7f2bf97d0ed0>"
            ]
          },
          "metadata": {},
          "execution_count": 19
        },
        {
          "output_type": "display_data",
          "data": {
            "image/png": "[encoded data removed]",
            "text/plain": [
              "<Figure size 432x288 with 1 Axes>"
            ]
          },
          "metadata": {
            "needs_background": "light"
          }
        },
        {
          "output_type": "display_data",
          "data": {
            "image/png": "[encoded data removed]",
            "text/plain": [
              "<Figure size 432x288 with 1 Axes>"
            ]
          },
          "metadata": {
            "needs_background": "light"
          }
        }
      ]
    },
    {
      "cell_type": "markdown",
      "metadata": {
        "id": "-TNkPb7MXWQG"
      },
      "source": [
        "# Evaluation"
      ]
    },
    {
      "cell_type": "code",
      "metadata": {
        "colab": {
          "base_uri": "https://localhost:8080/"
        },
        "id": "FnoiXlLyXXqe",
        "outputId": "89c16e8e-49a4-4f70-ded7-44ff61e6141c"
      },
      "source": [
        "predicted_labels=myModel.predict(X_test)\n",
        "#plt.imshow (test_images[0],cmap='binary')\n",
        "test_loss,test_acc=myModel.evaluate(X_test,Y_test)"
      ],
      "execution_count": 20,
      "outputs": [
        {
          "output_type": "stream",
          "name": "stdout",
          "text": [
            "313/313 [==============================] - 2s 7ms/step - loss: 0.0412 - accuracy: 0.9856\n"
          ]
        }
      ]
    }
  ]
}